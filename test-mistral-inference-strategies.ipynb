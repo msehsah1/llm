{
 "cells": [
  {
   "cell_type": "markdown",
   "id": "f8070dca",
   "metadata": {
    "papermill": {
     "duration": 0.003065,
     "end_time": "2024-01-16T04:02:57.150788",
     "exception": false,
     "start_time": "2024-01-16T04:02:57.147723",
     "status": "completed"
    },
    "tags": []
   },
   "source": [
    "# In this notebook, we will discover how to instantiate Big LLM Model, and discover different strategies to optimize and speed up inference"
   ]
  },
  {
   "cell_type": "code",
   "execution_count": 1,
   "id": "703fe26e",
   "metadata": {
    "_cell_guid": "b1076dfc-b9ad-4769-8c92-a6c4dae69d19",
    "_uuid": "8f2839f25d086af736a60e9eeb907d3b93b6e0e5",
    "execution": {
     "iopub.execute_input": "2024-01-16T04:02:57.158273Z",
     "iopub.status.busy": "2024-01-16T04:02:57.157406Z",
     "iopub.status.idle": "2024-01-16T04:03:37.488136Z",
     "shell.execute_reply": "2024-01-16T04:03:37.487045Z"
    },
    "papermill": {
     "duration": 40.33697,
     "end_time": "2024-01-16T04:03:37.490514",
     "exception": false,
     "start_time": "2024-01-16T04:02:57.153544",
     "status": "completed"
    },
    "tags": []
   },
   "outputs": [],
   "source": [
    "!pip install -q -U transformers\n",
    "!pip install -q -U accelerate\n",
    "!pip install -q -U bitsandbytes"
   ]
  },
  {
   "cell_type": "code",
   "execution_count": 2,
   "id": "e1af8a43",
   "metadata": {
    "execution": {
     "iopub.execute_input": "2024-01-16T04:03:37.497333Z",
     "iopub.status.busy": "2024-01-16T04:03:37.497053Z",
     "iopub.status.idle": "2024-01-16T04:03:55.610336Z",
     "shell.execute_reply": "2024-01-16T04:03:55.609602Z"
    },
    "papermill": {
     "duration": 18.119418,
     "end_time": "2024-01-16T04:03:55.612706",
     "exception": false,
     "start_time": "2024-01-16T04:03:37.493288",
     "status": "completed"
    },
    "tags": []
   },
   "outputs": [
    {
     "name": "stderr",
     "output_type": "stream",
     "text": [
      "/opt/conda/lib/python3.10/site-packages/scipy/__init__.py:146: UserWarning: A NumPy version >=1.16.5 and <1.23.0 is required for this version of SciPy (detected version 1.24.3\n",
      "  warnings.warn(f\"A NumPy version >={np_minversion} and <{np_maxversion}\"\n"
     ]
    }
   ],
   "source": [
    "from transformers import AutoTokenizer, AutoModelForCausalLM, BitsAndBytesConfig, pipeline\n",
    "import torch"
   ]
  },
  {
   "cell_type": "markdown",
   "id": "5c433079",
   "metadata": {
    "papermill": {
     "duration": 0.002481,
     "end_time": "2024-01-16T04:03:55.618311",
     "exception": false,
     "start_time": "2024-01-16T04:03:55.615830",
     "status": "completed"
    },
    "tags": []
   },
   "source": [
    "# Load Model and Apply Quantization  \n",
    "Further Reading on Quantization:  \n",
    "* https://huggingface.co/blog/4bit-transformers-bitsandbytes  \n",
    "* https://huggingface.co/blog/hf-bitsandbytes-integration  \n",
    "* https://huggingface.co/docs/transformers/quantization\n"
   ]
  },
  {
   "cell_type": "code",
   "execution_count": 3,
   "id": "aaa972b0",
   "metadata": {
    "execution": {
     "iopub.execute_input": "2024-01-16T04:03:55.625319Z",
     "iopub.status.busy": "2024-01-16T04:03:55.624373Z",
     "iopub.status.idle": "2024-01-16T04:06:06.931093Z",
     "shell.execute_reply": "2024-01-16T04:06:06.930111Z"
    },
    "papermill": {
     "duration": 131.312757,
     "end_time": "2024-01-16T04:06:06.933619",
     "exception": false,
     "start_time": "2024-01-16T04:03:55.620862",
     "status": "completed"
    },
    "tags": []
   },
   "outputs": [
    {
     "data": {
      "application/vnd.jupyter.widget-view+json": {
       "model_id": "acb4884dfaa94922a2520e0cd0dce64b",
       "version_major": 2,
       "version_minor": 0
      },
      "text/plain": [
       "Loading checkpoint shards:   0%|          | 0/2 [00:00<?, ?it/s]"
      ]
     },
     "metadata": {},
     "output_type": "display_data"
    }
   ],
   "source": [
    "model_name = \"/kaggle/input/mistral/pytorch/7b-instruct-v0.1-hf/1\"\n",
    "\n",
    "tokenizer = AutoTokenizer.from_pretrained(model_name)\n",
    "model = AutoModelForCausalLM.from_pretrained(\n",
    "        model_name,\n",
    "        load_in_4bit=True,\n",
    "        torch_dtype=torch.bfloat16,\n",
    "        device_map=\"auto\",\n",
    "        trust_remote_code=True,\n",
    "    )"
   ]
  },
  {
   "cell_type": "code",
   "execution_count": 4,
   "id": "28db6e91",
   "metadata": {
    "execution": {
     "iopub.execute_input": "2024-01-16T04:06:06.941035Z",
     "iopub.status.busy": "2024-01-16T04:06:06.940672Z",
     "iopub.status.idle": "2024-01-16T04:06:06.945211Z",
     "shell.execute_reply": "2024-01-16T04:06:06.944389Z"
    },
    "papermill": {
     "duration": 0.010326,
     "end_time": "2024-01-16T04:06:06.947059",
     "exception": false,
     "start_time": "2024-01-16T04:06:06.936733",
     "status": "completed"
    },
    "tags": []
   },
   "outputs": [],
   "source": [
    "pipe = pipeline(\n",
    "    \"text-generation\", \n",
    "    model=model, \n",
    "    tokenizer = tokenizer, \n",
    "    torch_dtype=torch.bfloat16, \n",
    "    device_map=\"auto\"\n",
    ")"
   ]
  },
  {
   "cell_type": "code",
   "execution_count": 5,
   "id": "3cd28313",
   "metadata": {
    "execution": {
     "iopub.execute_input": "2024-01-16T04:06:06.953744Z",
     "iopub.status.busy": "2024-01-16T04:06:06.953446Z",
     "iopub.status.idle": "2024-01-16T04:06:24.377457Z",
     "shell.execute_reply": "2024-01-16T04:06:24.376354Z"
    },
    "papermill": {
     "duration": 17.429697,
     "end_time": "2024-01-16T04:06:24.379668",
     "exception": false,
     "start_time": "2024-01-16T04:06:06.949971",
     "status": "completed"
    },
    "tags": []
   },
   "outputs": [
    {
     "name": "stderr",
     "output_type": "stream",
     "text": [
      "Setting `pad_token_id` to `eos_token_id`:2 for open-end generation.\n"
     ]
    },
    {
     "name": "stdout",
     "output_type": "stream",
     "text": [
      "It takes 17.417858839035034 seconds\n",
      "what is the steps to install Mistral model and use it for inference?\n",
      "\n",
      "## Answer (1)\n",
      "\n",
      "You can use the Mistral model in TensorFlow.js by following these steps:\n",
      "\n",
      "1. Download the pre-trained model from the Mistral website.\n",
      "2. Load the model into TensorFlow.js using the `tf.loadLayersModel()` function.\n",
      "3. Preprocess your input data to match the input shape of the model.\n",
      "4. Use the `tf.predict()` function to make predictions on your input data.\n",
      "\n",
      "Here is an example code snippet that demonstrates how to use the Mistral model in TensorFlow.js:\n",
      "```\n",
      "// Load the pre-trained model\n",
      "const model = await tf.loadLayersModel('mistral_model.json');\n",
      "\n",
      "// Preprocess your input data\n",
      "const inputData = preprocessInputData(inputData);\n",
      "\n",
      "// Make predictions on the input data\n",
      "const predictions = await model.predict(inputData);\n",
      "```\n",
      "Note that you will need to have TensorFlow.js installed and configured on your system in order to use the Mistral model. You can find more information on how to install and configure TensorFlow.js on the TensorFlow.js website.\n"
     ]
    }
   ],
   "source": [
    "import time\n",
    "start_time = time.time()\n",
    "sequences = pipe(\n",
    "    \"what is the steps to install Mistral model and use it for inference\",\n",
    "    do_sample=True,\n",
    "    max_new_tokens=1024, \n",
    "    temperature=0.1, \n",
    "    top_k=5, \n",
    "    top_p=0.9,\n",
    "    num_return_sequences=1,\n",
    ")\n",
    "end_time = time.time()\n",
    "generated_text = sequences[0][\"generated_text\"]\n",
    "result = generated_text.split('[/INST]')[-1].strip()  # Extract text after '[/INST]'\n",
    "print(f\"It takes {end_time-start_time} seconds\\n{result}\")"
   ]
  }
 ],
 "metadata": {
  "kaggle": {
   "accelerator": "gpu",
   "dataSources": [
    {
     "isSourceIdPinned": true,
     "modelInstanceId": 3900,
     "sourceId": 5112,
     "sourceType": "modelInstanceVersion"
    }
   ],
   "dockerImageVersionId": 30636,
   "isGpuEnabled": true,
   "isInternetEnabled": true,
   "language": "python",
   "sourceType": "notebook"
  },
  "kernelspec": {
   "display_name": "Python 3",
   "language": "python",
   "name": "python3"
  },
  "language_info": {
   "codemirror_mode": {
    "name": "ipython",
    "version": 3
   },
   "file_extension": ".py",
   "mimetype": "text/x-python",
   "name": "python",
   "nbconvert_exporter": "python",
   "pygments_lexer": "ipython3",
   "version": "3.10.12"
  },
  "papermill": {
   "default_parameters": {},
   "duration": 213.53218,
   "end_time": "2024-01-16T04:06:27.412817",
   "environment_variables": {},
   "exception": null,
   "input_path": "__notebook__.ipynb",
   "output_path": "__notebook__.ipynb",
   "parameters": {},
   "start_time": "2024-01-16T04:02:53.880637",
   "version": "2.4.0"
  },
  "widgets": {
   "application/vnd.jupyter.widget-state+json": {
    "state": {
     "13bf87485ca54cd286608192115c49c5": {
      "model_module": "@jupyter-widgets/base",
      "model_module_version": "1.2.0",
      "model_name": "LayoutModel",
      "state": {
       "_model_module": "@jupyter-widgets/base",
       "_model_module_version": "1.2.0",
       "_model_name": "LayoutModel",
       "_view_count": null,
       "_view_module": "@jupyter-widgets/base",
       "_view_module_version": "1.2.0",
       "_view_name": "LayoutView",
       "align_content": null,
       "align_items": null,
       "align_self": null,
       "border": null,
       "bottom": null,
       "display": null,
       "flex": null,
       "flex_flow": null,
       "grid_area": null,
       "grid_auto_columns": null,
       "grid_auto_flow": null,
       "grid_auto_rows": null,
       "grid_column": null,
       "grid_gap": null,
       "grid_row": null,
       "grid_template_areas": null,
       "grid_template_columns": null,
       "grid_template_rows": null,
       "height": null,
       "justify_content": null,
       "justify_items": null,
       "left": null,
       "margin": null,
       "max_height": null,
       "max_width": null,
       "min_height": null,
       "min_width": null,
       "object_fit": null,
       "object_position": null,
       "order": null,
       "overflow": null,
       "overflow_x": null,
       "overflow_y": null,
       "padding": null,
       "right": null,
       "top": null,
       "visibility": null,
       "width": null
      }
     },
     "3f6e696022b7414a8991465f13dc6364": {
      "model_module": "@jupyter-widgets/controls",
      "model_module_version": "1.5.0",
      "model_name": "FloatProgressModel",
      "state": {
       "_dom_classes": [],
       "_model_module": "@jupyter-widgets/controls",
       "_model_module_version": "1.5.0",
       "_model_name": "FloatProgressModel",
       "_view_count": null,
       "_view_module": "@jupyter-widgets/controls",
       "_view_module_version": "1.5.0",
       "_view_name": "ProgressView",
       "bar_style": "success",
       "description": "",
       "description_tooltip": null,
       "layout": "IPY_MODEL_e7a18125beee4fa2b07bba3a85e5aacf",
       "max": 2.0,
       "min": 0.0,
       "orientation": "horizontal",
       "style": "IPY_MODEL_507557f1128c42cca5c67792ba138314",
       "value": 2.0
      }
     },
     "507557f1128c42cca5c67792ba138314": {
      "model_module": "@jupyter-widgets/controls",
      "model_module_version": "1.5.0",
      "model_name": "ProgressStyleModel",
      "state": {
       "_model_module": "@jupyter-widgets/controls",
       "_model_module_version": "1.5.0",
       "_model_name": "ProgressStyleModel",
       "_view_count": null,
       "_view_module": "@jupyter-widgets/base",
       "_view_module_version": "1.2.0",
       "_view_name": "StyleView",
       "bar_color": null,
       "description_width": ""
      }
     },
     "542f61b612a14bcf9e8c6589a6d3062f": {
      "model_module": "@jupyter-widgets/controls",
      "model_module_version": "1.5.0",
      "model_name": "HTMLModel",
      "state": {
       "_dom_classes": [],
       "_model_module": "@jupyter-widgets/controls",
       "_model_module_version": "1.5.0",
       "_model_name": "HTMLModel",
       "_view_count": null,
       "_view_module": "@jupyter-widgets/controls",
       "_view_module_version": "1.5.0",
       "_view_name": "HTMLView",
       "description": "",
       "description_tooltip": null,
       "layout": "IPY_MODEL_813ff58fb56e44228edb5a633e383d39",
       "placeholder": "​",
       "style": "IPY_MODEL_cb45668813c245019092f9ebe149be3a",
       "value": "Loading checkpoint shards: 100%"
      }
     },
     "813ff58fb56e44228edb5a633e383d39": {
      "model_module": "@jupyter-widgets/base",
      "model_module_version": "1.2.0",
      "model_name": "LayoutModel",
      "state": {
       "_model_module": "@jupyter-widgets/base",
       "_model_module_version": "1.2.0",
       "_model_name": "LayoutModel",
       "_view_count": null,
       "_view_module": "@jupyter-widgets/base",
       "_view_module_version": "1.2.0",
       "_view_name": "LayoutView",
       "align_content": null,
       "align_items": null,
       "align_self": null,
       "border": null,
       "bottom": null,
       "display": null,
       "flex": null,
       "flex_flow": null,
       "grid_area": null,
       "grid_auto_columns": null,
       "grid_auto_flow": null,
       "grid_auto_rows": null,
       "grid_column": null,
       "grid_gap": null,
       "grid_row": null,
       "grid_template_areas": null,
       "grid_template_columns": null,
       "grid_template_rows": null,
       "height": null,
       "justify_content": null,
       "justify_items": null,
       "left": null,
       "margin": null,
       "max_height": null,
       "max_width": null,
       "min_height": null,
       "min_width": null,
       "object_fit": null,
       "object_position": null,
       "order": null,
       "overflow": null,
       "overflow_x": null,
       "overflow_y": null,
       "padding": null,
       "right": null,
       "top": null,
       "visibility": null,
       "width": null
      }
     },
     "81731af29cb943f1971c7c3a7f5eb1ab": {
      "model_module": "@jupyter-widgets/controls",
      "model_module_version": "1.5.0",
      "model_name": "HTMLModel",
      "state": {
       "_dom_classes": [],
       "_model_module": "@jupyter-widgets/controls",
       "_model_module_version": "1.5.0",
       "_model_name": "HTMLModel",
       "_view_count": null,
       "_view_module": "@jupyter-widgets/controls",
       "_view_module_version": "1.5.0",
       "_view_name": "HTMLView",
       "description": "",
       "description_tooltip": null,
       "layout": "IPY_MODEL_13bf87485ca54cd286608192115c49c5",
       "placeholder": "​",
       "style": "IPY_MODEL_8b45870c85b14e8597e97a6c3e7f2a5c",
       "value": " 2/2 [02:08&lt;00:00, 60.74s/it]"
      }
     },
     "8b45870c85b14e8597e97a6c3e7f2a5c": {
      "model_module": "@jupyter-widgets/controls",
      "model_module_version": "1.5.0",
      "model_name": "DescriptionStyleModel",
      "state": {
       "_model_module": "@jupyter-widgets/controls",
       "_model_module_version": "1.5.0",
       "_model_name": "DescriptionStyleModel",
       "_view_count": null,
       "_view_module": "@jupyter-widgets/base",
       "_view_module_version": "1.2.0",
       "_view_name": "StyleView",
       "description_width": ""
      }
     },
     "a80bc8b76a2646cebd16c4ad3286798a": {
      "model_module": "@jupyter-widgets/base",
      "model_module_version": "1.2.0",
      "model_name": "LayoutModel",
      "state": {
       "_model_module": "@jupyter-widgets/base",
       "_model_module_version": "1.2.0",
       "_model_name": "LayoutModel",
       "_view_count": null,
       "_view_module": "@jupyter-widgets/base",
       "_view_module_version": "1.2.0",
       "_view_name": "LayoutView",
       "align_content": null,
       "align_items": null,
       "align_self": null,
       "border": null,
       "bottom": null,
       "display": null,
       "flex": null,
       "flex_flow": null,
       "grid_area": null,
       "grid_auto_columns": null,
       "grid_auto_flow": null,
       "grid_auto_rows": null,
       "grid_column": null,
       "grid_gap": null,
       "grid_row": null,
       "grid_template_areas": null,
       "grid_template_columns": null,
       "grid_template_rows": null,
       "height": null,
       "justify_content": null,
       "justify_items": null,
       "left": null,
       "margin": null,
       "max_height": null,
       "max_width": null,
       "min_height": null,
       "min_width": null,
       "object_fit": null,
       "object_position": null,
       "order": null,
       "overflow": null,
       "overflow_x": null,
       "overflow_y": null,
       "padding": null,
       "right": null,
       "top": null,
       "visibility": null,
       "width": null
      }
     },
     "acb4884dfaa94922a2520e0cd0dce64b": {
      "model_module": "@jupyter-widgets/controls",
      "model_module_version": "1.5.0",
      "model_name": "HBoxModel",
      "state": {
       "_dom_classes": [],
       "_model_module": "@jupyter-widgets/controls",
       "_model_module_version": "1.5.0",
       "_model_name": "HBoxModel",
       "_view_count": null,
       "_view_module": "@jupyter-widgets/controls",
       "_view_module_version": "1.5.0",
       "_view_name": "HBoxView",
       "box_style": "",
       "children": [
        "IPY_MODEL_542f61b612a14bcf9e8c6589a6d3062f",
        "IPY_MODEL_3f6e696022b7414a8991465f13dc6364",
        "IPY_MODEL_81731af29cb943f1971c7c3a7f5eb1ab"
       ],
       "layout": "IPY_MODEL_a80bc8b76a2646cebd16c4ad3286798a"
      }
     },
     "cb45668813c245019092f9ebe149be3a": {
      "model_module": "@jupyter-widgets/controls",
      "model_module_version": "1.5.0",
      "model_name": "DescriptionStyleModel",
      "state": {
       "_model_module": "@jupyter-widgets/controls",
       "_model_module_version": "1.5.0",
       "_model_name": "DescriptionStyleModel",
       "_view_count": null,
       "_view_module": "@jupyter-widgets/base",
       "_view_module_version": "1.2.0",
       "_view_name": "StyleView",
       "description_width": ""
      }
     },
     "e7a18125beee4fa2b07bba3a85e5aacf": {
      "model_module": "@jupyter-widgets/base",
      "model_module_version": "1.2.0",
      "model_name": "LayoutModel",
      "state": {
       "_model_module": "@jupyter-widgets/base",
       "_model_module_version": "1.2.0",
       "_model_name": "LayoutModel",
       "_view_count": null,
       "_view_module": "@jupyter-widgets/base",
       "_view_module_version": "1.2.0",
       "_view_name": "LayoutView",
       "align_content": null,
       "align_items": null,
       "align_self": null,
       "border": null,
       "bottom": null,
       "display": null,
       "flex": null,
       "flex_flow": null,
       "grid_area": null,
       "grid_auto_columns": null,
       "grid_auto_flow": null,
       "grid_auto_rows": null,
       "grid_column": null,
       "grid_gap": null,
       "grid_row": null,
       "grid_template_areas": null,
       "grid_template_columns": null,
       "grid_template_rows": null,
       "height": null,
       "justify_content": null,
       "justify_items": null,
       "left": null,
       "margin": null,
       "max_height": null,
       "max_width": null,
       "min_height": null,
       "min_width": null,
       "object_fit": null,
       "object_position": null,
       "order": null,
       "overflow": null,
       "overflow_x": null,
       "overflow_y": null,
       "padding": null,
       "right": null,
       "top": null,
       "visibility": null,
       "width": null
      }
     }
    },
    "version_major": 2,
    "version_minor": 0
   }
  }
 },
 "nbformat": 4,
 "nbformat_minor": 5
}
